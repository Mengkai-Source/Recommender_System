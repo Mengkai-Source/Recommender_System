{
 "cells": [
  {
   "cell_type": "code",
   "execution_count": 2,
   "id": "a34002e7",
   "metadata": {},
   "outputs": [
    {
     "name": "stdout",
     "output_type": "stream",
     "text": [
      "The autoreload extension is already loaded. To reload it, use:\n",
      "  %reload_ext autoreload\n"
     ]
    }
   ],
   "source": [
    "%load_ext autoreload\n",
    "%autoreload 2\n",
    "\n",
    "import tensorflow as tf\n",
    "import tensorflow_datasets as tfds\n",
    "import tensorflow_recommenders as tfrs\n",
    "\n",
    "from importlib import reload\n",
    "reload(tfrs)\n",
    "\n",
    "import os\n",
    "import pprint\n",
    "import tempfile\n",
    "from typing import Dict, Text\n",
    "import numpy as np\n",
    "\n",
    "import pandas as pd\n",
    "import numpy as np\n",
    "import swifter\n",
    "import re\n",
    "import json\n",
    "import ast\n",
    "import pprint"
   ]
  },
  {
   "cell_type": "code",
   "execution_count": 3,
   "id": "d7cf04bc",
   "metadata": {},
   "outputs": [
    {
     "name": "stdout",
     "output_type": "stream",
     "text": [
      "False\n"
     ]
    }
   ],
   "source": [
    "#tf.config.list_physical_devices('GPU')\n",
    "#tf.config.list_physical_devices('CPU')\n",
    "print(tf.test.is_gpu_available())"
   ]
  },
  {
   "cell_type": "markdown",
   "id": "be8ee554",
   "metadata": {},
   "source": [
    "### Product data"
   ]
  },
  {
   "cell_type": "code",
   "execution_count": 4,
   "id": "65794884",
   "metadata": {},
   "outputs": [
    {
     "data": {
      "text/html": [
       "<div>\n",
       "<style scoped>\n",
       "    .dataframe tbody tr th:only-of-type {\n",
       "        vertical-align: middle;\n",
       "    }\n",
       "\n",
       "    .dataframe tbody tr th {\n",
       "        vertical-align: top;\n",
       "    }\n",
       "\n",
       "    .dataframe thead th {\n",
       "        text-align: right;\n",
       "    }\n",
       "</style>\n",
       "<table border=\"1\" class=\"dataframe\">\n",
       "  <thead>\n",
       "    <tr style=\"text-align: right;\">\n",
       "      <th></th>\n",
       "      <th>id</th>\n",
       "      <th>title</th>\n",
       "      <th>categories</th>\n",
       "      <th>description</th>\n",
       "      <th>priceInfo</th>\n",
       "    </tr>\n",
       "  </thead>\n",
       "  <tbody>\n",
       "    <tr>\n",
       "      <th>0</th>\n",
       "      <td>1</td>\n",
       "      <td>1299107</td>\n",
       "      <td>[[1114.0, 113.0]]</td>\n",
       "      <td>513325 1020281 1204938 172646 72261 30603 8980...</td>\n",
       "      <td>{'currencyCode': 'USD', 'price': 6120, 'origin...</td>\n",
       "    </tr>\n",
       "    <tr>\n",
       "      <th>1</th>\n",
       "      <td>2</td>\n",
       "      <td>1260440</td>\n",
       "      <td>[[1305.0, 1214.0]]</td>\n",
       "      <td>822092 325894 504272 147366 343631 648485 n600...</td>\n",
       "      <td>{'currencyCode': 'USD', 'price': 41040, 'origi...</td>\n",
       "    </tr>\n",
       "    <tr>\n",
       "      <th>2</th>\n",
       "      <td>3</td>\n",
       "      <td>354388</td>\n",
       "      <td>[[1171.0, 938.0]]</td>\n",
       "      <td>138228 150169 1182824 327918 261419</td>\n",
       "      <td>{'currencyCode': 'USD', 'price': 1560, 'origin...</td>\n",
       "    </tr>\n",
       "    <tr>\n",
       "      <th>3</th>\n",
       "      <td>5</td>\n",
       "      <td>1000017</td>\n",
       "      <td>[[1061.0, 1259.0]]</td>\n",
       "      <td>188678 316731 30603 341599 1208937 1300184</td>\n",
       "      <td>{'currencyCode': 'USD', 'price': 100, 'origina...</td>\n",
       "    </tr>\n",
       "    <tr>\n",
       "      <th>4</th>\n",
       "      <td>6</td>\n",
       "      <td>303099</td>\n",
       "      <td>[[1091.0, 573.0]]</td>\n",
       "      <td>1236550 662786 609354 662786 302095 639502 123...</td>\n",
       "      <td>{'currencyCode': 'USD', 'price': 41760, 'origi...</td>\n",
       "    </tr>\n",
       "  </tbody>\n",
       "</table>\n",
       "</div>"
      ],
      "text/plain": [
       "  id    title          categories  \\\n",
       "0  1  1299107   [[1114.0, 113.0]]   \n",
       "1  2  1260440  [[1305.0, 1214.0]]   \n",
       "2  3   354388   [[1171.0, 938.0]]   \n",
       "3  5  1000017  [[1061.0, 1259.0]]   \n",
       "4  6   303099   [[1091.0, 573.0]]   \n",
       "\n",
       "                                         description  \\\n",
       "0  513325 1020281 1204938 172646 72261 30603 8980...   \n",
       "1  822092 325894 504272 147366 343631 648485 n600...   \n",
       "2                138228 150169 1182824 327918 261419   \n",
       "3         188678 316731 30603 341599 1208937 1300184   \n",
       "4  1236550 662786 609354 662786 302095 639502 123...   \n",
       "\n",
       "                                           priceInfo  \n",
       "0  {'currencyCode': 'USD', 'price': 6120, 'origin...  \n",
       "1  {'currencyCode': 'USD', 'price': 41040, 'origi...  \n",
       "2  {'currencyCode': 'USD', 'price': 1560, 'origin...  \n",
       "3  {'currencyCode': 'USD', 'price': 100, 'origina...  \n",
       "4  {'currencyCode': 'USD', 'price': 41760, 'origi...  "
      ]
     },
     "execution_count": 4,
     "metadata": {},
     "output_type": "execute_result"
    }
   ],
   "source": [
    "# Load product catalog data\n",
    "product = list()\n",
    "with open('../dataset/retailrocket_processed_data/clean_data/product_catalog_Retail_API.json') as file:\n",
    "    for i in file:\n",
    "        product.append(json.loads(i))\n",
    "product_df = pd.DataFrame(product).drop(['type', 'primaryProductId','availability'],1)\n",
    "product_df.head(5)"
   ]
  },
  {
   "cell_type": "code",
   "execution_count": 5,
   "id": "c2a7e4d1",
   "metadata": {},
   "outputs": [
    {
     "data": {
      "application/vnd.jupyter.widget-view+json": {
       "model_id": "23f4cfcf81b24f8ea1aa57f76c74f8b5",
       "version_major": 2,
       "version_minor": 0
      },
      "text/plain": [
       "Pandas Apply:   0%|          | 0/417053 [00:00<?, ?it/s]"
      ]
     },
     "metadata": {},
     "output_type": "display_data"
    },
    {
     "data": {
      "application/vnd.jupyter.widget-view+json": {
       "model_id": "48a618fdc2f944988c9b7ca15dd774c1",
       "version_major": 2,
       "version_minor": 0
      },
      "text/plain": [
       "Pandas Apply:   0%|          | 0/417053 [00:00<?, ?it/s]"
      ]
     },
     "metadata": {},
     "output_type": "display_data"
    },
    {
     "data": {
      "text/html": [
       "<div>\n",
       "<style scoped>\n",
       "    .dataframe tbody tr th:only-of-type {\n",
       "        vertical-align: middle;\n",
       "    }\n",
       "\n",
       "    .dataframe tbody tr th {\n",
       "        vertical-align: top;\n",
       "    }\n",
       "\n",
       "    .dataframe thead th {\n",
       "        text-align: right;\n",
       "    }\n",
       "</style>\n",
       "<table border=\"1\" class=\"dataframe\">\n",
       "  <thead>\n",
       "    <tr style=\"text-align: right;\">\n",
       "      <th></th>\n",
       "      <th>item_id</th>\n",
       "      <th>item_title</th>\n",
       "      <th>category_id</th>\n",
       "      <th>description</th>\n",
       "      <th>priceInfo</th>\n",
       "      <th>price</th>\n",
       "      <th>original_price</th>\n",
       "    </tr>\n",
       "  </thead>\n",
       "  <tbody>\n",
       "    <tr>\n",
       "      <th>0</th>\n",
       "      <td>1</td>\n",
       "      <td>1299107</td>\n",
       "      <td>[[1114.0, 113.0]]</td>\n",
       "      <td>513325 1020281 1204938 172646 72261 30603 8980...</td>\n",
       "      <td>{'currencyCode': 'USD', 'price': 6120, 'origin...</td>\n",
       "      <td>6120</td>\n",
       "      <td>6240</td>\n",
       "    </tr>\n",
       "    <tr>\n",
       "      <th>1</th>\n",
       "      <td>2</td>\n",
       "      <td>1260440</td>\n",
       "      <td>[[1305.0, 1214.0]]</td>\n",
       "      <td>822092 325894 504272 147366 343631 648485 n600...</td>\n",
       "      <td>{'currencyCode': 'USD', 'price': 41040, 'origi...</td>\n",
       "      <td>41040</td>\n",
       "      <td>41040</td>\n",
       "    </tr>\n",
       "    <tr>\n",
       "      <th>2</th>\n",
       "      <td>3</td>\n",
       "      <td>354388</td>\n",
       "      <td>[[1171.0, 938.0]]</td>\n",
       "      <td>138228 150169 1182824 327918 261419</td>\n",
       "      <td>{'currencyCode': 'USD', 'price': 1560, 'origin...</td>\n",
       "      <td>1560</td>\n",
       "      <td>1560</td>\n",
       "    </tr>\n",
       "    <tr>\n",
       "      <th>3</th>\n",
       "      <td>5</td>\n",
       "      <td>1000017</td>\n",
       "      <td>[[1061.0, 1259.0]]</td>\n",
       "      <td>188678 316731 30603 341599 1208937 1300184</td>\n",
       "      <td>{'currencyCode': 'USD', 'price': 100, 'origina...</td>\n",
       "      <td>100</td>\n",
       "      <td>100</td>\n",
       "    </tr>\n",
       "  </tbody>\n",
       "</table>\n",
       "</div>"
      ],
      "text/plain": [
       "  item_id item_title         category_id  \\\n",
       "0       1    1299107   [[1114.0, 113.0]]   \n",
       "1       2    1260440  [[1305.0, 1214.0]]   \n",
       "2       3     354388   [[1171.0, 938.0]]   \n",
       "3       5    1000017  [[1061.0, 1259.0]]   \n",
       "\n",
       "                                         description  \\\n",
       "0  513325 1020281 1204938 172646 72261 30603 8980...   \n",
       "1  822092 325894 504272 147366 343631 648485 n600...   \n",
       "2                138228 150169 1182824 327918 261419   \n",
       "3         188678 316731 30603 341599 1208937 1300184   \n",
       "\n",
       "                                           priceInfo  price  original_price  \n",
       "0  {'currencyCode': 'USD', 'price': 6120, 'origin...   6120            6240  \n",
       "1  {'currencyCode': 'USD', 'price': 41040, 'origi...  41040           41040  \n",
       "2  {'currencyCode': 'USD', 'price': 1560, 'origin...   1560            1560  \n",
       "3  {'currencyCode': 'USD', 'price': 100, 'origina...    100             100  "
      ]
     },
     "execution_count": 5,
     "metadata": {},
     "output_type": "execute_result"
    }
   ],
   "source": [
    "product_df = product_df.rename({'id': 'item_id', 'title': 'item_title', 'categories': 'category_id'}, axis=1)\n",
    "product_df['price'] = product_df['priceInfo'].swifter.apply(lambda x: x['price'])\n",
    "product_df['original_price'] = product_df['priceInfo'].swifter.apply(lambda x: x['originalPrice'])\n",
    "product_df.head(4)"
   ]
  },
  {
   "cell_type": "code",
   "execution_count": 6,
   "id": "7c8ccc3d",
   "metadata": {},
   "outputs": [
    {
     "data": {
      "application/vnd.jupyter.widget-view+json": {
       "model_id": "a8d4144129294a1b9bc611d37623c370",
       "version_major": 2,
       "version_minor": 0
      },
      "text/plain": [
       "Pandas Apply:   0%|          | 0/417053 [00:00<?, ?it/s]"
      ]
     },
     "metadata": {},
     "output_type": "display_data"
    },
    {
     "data": {
      "application/vnd.jupyter.widget-view+json": {
       "model_id": "3619e784e44343d184ab707c7dfa364d",
       "version_major": 2,
       "version_minor": 0
      },
      "text/plain": [
       "Pandas Apply:   0%|          | 0/417053 [00:00<?, ?it/s]"
      ]
     },
     "metadata": {},
     "output_type": "display_data"
    },
    {
     "data": {
      "application/vnd.jupyter.widget-view+json": {
       "model_id": "edf35f23c17e41e8bbfdd8604189cd3b",
       "version_major": 2,
       "version_minor": 0
      },
      "text/plain": [
       "Pandas Apply:   0%|          | 0/417053 [00:00<?, ?it/s]"
      ]
     },
     "metadata": {},
     "output_type": "display_data"
    }
   ],
   "source": [
    "product_df['category_id'] = product_df['category_id'].swifter.apply(lambda x: x[0])\n",
    "product_df['price'] = product_df['price'].swifter.apply(lambda x: int(x))\n",
    "product_df['original_price'] = product_df['original_price'].swifter.apply(lambda x: int(x))"
   ]
  },
  {
   "cell_type": "code",
   "execution_count": 7,
   "id": "7a2b382a",
   "metadata": {},
   "outputs": [],
   "source": [
    "# Prepare data in tensors\n",
    "product = tf.data.Dataset.from_tensor_slices({'item_id': product_df['item_id'].tolist(),'item_title': product_df['item_title'].tolist(),\n",
    "                                             'category_id': product_df['category_id'].tolist(), 'description': product_df['description'].tolist(),\n",
    "                                             'price': product_df['price'].tolist(), 'original_price': product_df['original_price'].tolist()})"
   ]
  },
  {
   "cell_type": "code",
   "execution_count": 8,
   "id": "1a63da47",
   "metadata": {},
   "outputs": [
    {
     "name": "stdout",
     "output_type": "stream",
     "text": [
      "{'category_id': array([b'1114.0', b'113.0'], dtype=object),\n",
      " 'description': b'513325 1020281 1204938 172646 72261 30603 898004 140719 3028'\n",
      "                b'48 1204938 190728 532620 572715 1128577 162103 1097148 28873'\n",
      "                b'1 418473 150169 855390 836649 113294 435459 1103229 1019257 '\n",
      "                b'1272915 707081 13541 1161933 610340 804917',\n",
      " 'item_id': b'1',\n",
      " 'item_title': b'1299107',\n",
      " 'original_price': 6240,\n",
      " 'price': 6120}\n",
      "{'category_id': array([b'1305.0', b'1214.0'], dtype=object),\n",
      " 'description': b'822092 325894 504272 147366 343631 648485 n6000.000 n72.000 '\n",
      "                b'504272 147366 343631 648485 n6000.000 639502 n72.000 936990 '\n",
      "                b'949802 1113810 504272 653611 325894 1262898 796845 161652 15'\n",
      "                b'0169 353870 1309799 1030323 608362 680618 1128577 636684 108'\n",
      "                b'1984 703408',\n",
      " 'item_id': b'2',\n",
      " 'item_title': b'1260440',\n",
      " 'original_price': 41040,\n",
      " 'price': 41040}\n"
     ]
    }
   ],
   "source": [
    "for i in product.take(2).as_numpy_iterator():\n",
    "    pprint.pprint(i)"
   ]
  },
  {
   "cell_type": "code",
   "execution_count": 9,
   "id": "aab24208",
   "metadata": {},
   "outputs": [
    {
     "data": {
      "text/plain": [
       "['1171.0', '938.0']"
      ]
     },
     "execution_count": 9,
     "metadata": {},
     "output_type": "execute_result"
    }
   ],
   "source": [
    "# Item - Category mapping\n",
    "item_category_map = dict(zip(product_df['item_id'].tolist(),product_df['category_id'].tolist()))\n",
    "item_category_map['3']"
   ]
  },
  {
   "cell_type": "markdown",
   "id": "43ec27ac",
   "metadata": {},
   "source": [
    "### User events data"
   ]
  },
  {
   "cell_type": "code",
   "execution_count": 10,
   "id": "6386900c",
   "metadata": {},
   "outputs": [],
   "source": [
    "# Load user events data\n",
    "with open('../dataset/microsoft_training_ClickRate_data') as file:\n",
    "    training = file.readlines()\n",
    "df = pd.DataFrame(training,columns = ['original'])"
   ]
  },
  {
   "cell_type": "code",
   "execution_count": 11,
   "id": "fea749b2",
   "metadata": {},
   "outputs": [
    {
     "data": {
      "application/vnd.jupyter.widget-view+json": {
       "model_id": "b853d935eade432daaa7c65d646866ef",
       "version_major": 2,
       "version_minor": 0
      },
      "text/plain": [
       "Pandas Apply:   0%|          | 0/909817 [00:00<?, ?it/s]"
      ]
     },
     "metadata": {},
     "output_type": "display_data"
    },
    {
     "data": {
      "application/vnd.jupyter.widget-view+json": {
       "model_id": "36ccdc74f4714476909b5ad4f5622517",
       "version_major": 2,
       "version_minor": 0
      },
      "text/plain": [
       "Pandas Apply:   0%|          | 0/909817 [00:00<?, ?it/s]"
      ]
     },
     "metadata": {},
     "output_type": "display_data"
    },
    {
     "data": {
      "application/vnd.jupyter.widget-view+json": {
       "model_id": "f1392c0f14e04aa3a06e5b1ecc0820cf",
       "version_major": 2,
       "version_minor": 0
      },
      "text/plain": [
       "Pandas Apply:   0%|          | 0/909817 [00:00<?, ?it/s]"
      ]
     },
     "metadata": {},
     "output_type": "display_data"
    },
    {
     "data": {
      "application/vnd.jupyter.widget-view+json": {
       "model_id": "eb72330513b44c43a7e481caf6b8a5c0",
       "version_major": 2,
       "version_minor": 0
      },
      "text/plain": [
       "Pandas Apply:   0%|          | 0/909817 [00:00<?, ?it/s]"
      ]
     },
     "metadata": {},
     "output_type": "display_data"
    }
   ],
   "source": [
    "df['user_id'] = df['original'].swifter.apply(lambda x: str(x.split('\\t')[1]))\n",
    "df['item_id'] = df['original'].swifter.apply(lambda x: str(x.split('\\t')[2]))\n",
    "df['category_id'] = df['original'].swifter.apply(lambda x: [np.int(float(x.split('\\t')[3]))]) # category = integer\n",
    "df['timestamp'] = df['original'].swifter.apply(lambda x: int(x.split('\\t')[4]))"
   ]
  },
  {
   "cell_type": "code",
   "execution_count": 12,
   "id": "2bb9179b",
   "metadata": {},
   "outputs": [
    {
     "data": {
      "application/vnd.jupyter.widget-view+json": {
       "model_id": "2c086515035e42a08338d46efcb0236e",
       "version_major": 2,
       "version_minor": 0
      },
      "text/plain": [
       "Pandas Apply:   0%|          | 0/909817 [00:00<?, ?it/s]"
      ]
     },
     "metadata": {},
     "output_type": "display_data"
    },
    {
     "data": {
      "application/vnd.jupyter.widget-view+json": {
       "model_id": "78fcbcf9abb3449ba8b29585b13b7ad5",
       "version_major": 2,
       "version_minor": 0
      },
      "text/plain": [
       "Pandas Apply:   0%|          | 0/909817 [00:00<?, ?it/s]"
      ]
     },
     "metadata": {},
     "output_type": "display_data"
    },
    {
     "data": {
      "text/html": [
       "<div>\n",
       "<style scoped>\n",
       "    .dataframe tbody tr th:only-of-type {\n",
       "        vertical-align: middle;\n",
       "    }\n",
       "\n",
       "    .dataframe tbody tr th {\n",
       "        vertical-align: top;\n",
       "    }\n",
       "\n",
       "    .dataframe thead th {\n",
       "        text-align: right;\n",
       "    }\n",
       "</style>\n",
       "<table border=\"1\" class=\"dataframe\">\n",
       "  <thead>\n",
       "    <tr style=\"text-align: right;\">\n",
       "      <th></th>\n",
       "      <th>original</th>\n",
       "      <th>user_id</th>\n",
       "      <th>item_id</th>\n",
       "      <th>category_id</th>\n",
       "      <th>timestamp</th>\n",
       "    </tr>\n",
       "  </thead>\n",
       "  <tbody>\n",
       "    <tr>\n",
       "      <th>0</th>\n",
       "      <td>1\\t2\\t325215\\t299.0\\t1613850013\\t325215\\t299.0...</td>\n",
       "      <td>2</td>\n",
       "      <td>325215</td>\n",
       "      <td>299.0</td>\n",
       "      <td>1613850013</td>\n",
       "    </tr>\n",
       "    <tr>\n",
       "      <th>1</th>\n",
       "      <td>1\\t2\\t259884\\t299.0\\t1613850212\\t325215,325215...</td>\n",
       "      <td>2</td>\n",
       "      <td>259884</td>\n",
       "      <td>299.0</td>\n",
       "      <td>1613850212</td>\n",
       "    </tr>\n",
       "    <tr>\n",
       "      <th>2</th>\n",
       "      <td>1\\t2\\t216305\\t299.0\\t1613850468\\t325215,325215...</td>\n",
       "      <td>2</td>\n",
       "      <td>216305</td>\n",
       "      <td>299.0</td>\n",
       "      <td>1613850468</td>\n",
       "    </tr>\n",
       "  </tbody>\n",
       "</table>\n",
       "</div>"
      ],
      "text/plain": [
       "                                            original user_id item_id  \\\n",
       "0  1\\t2\\t325215\\t299.0\\t1613850013\\t325215\\t299.0...       2  325215   \n",
       "1  1\\t2\\t259884\\t299.0\\t1613850212\\t325215,325215...       2  259884   \n",
       "2  1\\t2\\t216305\\t299.0\\t1613850468\\t325215,325215...       2  216305   \n",
       "\n",
       "  category_id   timestamp  \n",
       "0       299.0  1613850013  \n",
       "1       299.0  1613850212  \n",
       "2       299.0  1613850468  "
      ]
     },
     "execution_count": 12,
     "metadata": {},
     "output_type": "execute_result"
    }
   ],
   "source": [
    "df['category_id'] = df['item_id'].swifter.apply(lambda x: item_category_map[x])\n",
    "df['category_id'] = df['category_id'].swifter.apply(lambda x: x[0])\n",
    "df.head(3)"
   ]
  },
  {
   "cell_type": "code",
   "execution_count": 13,
   "id": "ce481a3d",
   "metadata": {},
   "outputs": [
    {
     "name": "stdout",
     "output_type": "stream",
     "text": [
      "{'user_id': b'2', 'item_id': b'325215', 'category_id': b'299.0', 'timestamp': 1613850013}\n",
      "{'user_id': b'2', 'item_id': b'259884', 'category_id': b'299.0', 'timestamp': 1613850212}\n"
     ]
    }
   ],
   "source": [
    "# Prepare data in tensors\n",
    "user_events = tf.data.Dataset.from_tensor_slices({'user_id': df['user_id'].tolist(),'item_id': df['item_id'].tolist(),\n",
    "                                             'category_id': df['category_id'].tolist(), 'timestamp': df['timestamp'].tolist()})\n",
    "for i in user_events.take(2).as_numpy_iterator():\n",
    "    print(i)"
   ]
  },
  {
   "cell_type": "markdown",
   "id": "7bf3a664",
   "metadata": {},
   "source": [
    "### Input data preparation"
   ]
  },
  {
   "cell_type": "code",
   "execution_count": 15,
   "id": "979df5aa",
   "metadata": {},
   "outputs": [],
   "source": [
    "ratings = user_events.map(lambda x: {\n",
    "    'user_id': x['user_id'],\n",
    "    'item_id': x['item_id'],\n",
    "    'category_id': x['category_id'],\n",
    "    'timestamp': x['timestamp'],\n",
    "}) # Retain only useful features\n",
    "#movies = product.map(lambda x: x['item_id'])\n",
    "movies = product.map(lambda x: {\n",
    "    'item_id': x['item_id'],\n",
    "    'category_id': x['category_id'],\n",
    "    'description': x['description'],\n",
    "    'item_title': x['item_title'],\n",
    "    'original_price': x['original_price'],\n",
    "    'price': x['price']\n",
    "})"
   ]
  },
  {
   "cell_type": "code",
   "execution_count": 16,
   "id": "e77fe7e4",
   "metadata": {},
   "outputs": [
    {
     "name": "stdout",
     "output_type": "stream",
     "text": [
      "{'category_id': b'299.0',\n",
      " 'item_id': b'325215',\n",
      " 'timestamp': 1613850013,\n",
      " 'user_id': b'2'}\n",
      "{'category_id': b'299.0',\n",
      " 'item_id': b'259884',\n",
      " 'timestamp': 1613850212,\n",
      " 'user_id': b'2'}\n"
     ]
    }
   ],
   "source": [
    "for i in ratings.take(2).as_numpy_iterator():\n",
    "    pprint.pprint(i)"
   ]
  },
  {
   "cell_type": "code",
   "execution_count": 17,
   "id": "56d91bf1",
   "metadata": {},
   "outputs": [
    {
     "name": "stdout",
     "output_type": "stream",
     "text": [
      "{'category_id': array([b'1114.0', b'113.0'], dtype=object),\n",
      " 'description': b'513325 1020281 1204938 172646 72261 30603 898004 140719 3028'\n",
      "                b'48 1204938 190728 532620 572715 1128577 162103 1097148 28873'\n",
      "                b'1 418473 150169 855390 836649 113294 435459 1103229 1019257 '\n",
      "                b'1272915 707081 13541 1161933 610340 804917',\n",
      " 'item_id': b'1',\n",
      " 'item_title': b'1299107',\n",
      " 'original_price': 6240,\n",
      " 'price': 6120}\n",
      "{'category_id': array([b'1305.0', b'1214.0'], dtype=object),\n",
      " 'description': b'822092 325894 504272 147366 343631 648485 n6000.000 n72.000 '\n",
      "                b'504272 147366 343631 648485 n6000.000 639502 n72.000 936990 '\n",
      "                b'949802 1113810 504272 653611 325894 1262898 796845 161652 15'\n",
      "                b'0169 353870 1309799 1030323 608362 680618 1128577 636684 108'\n",
      "                b'1984 703408',\n",
      " 'item_id': b'2',\n",
      " 'item_title': b'1260440',\n",
      " 'original_price': 41040,\n",
      " 'price': 41040}\n"
     ]
    }
   ],
   "source": [
    "for i in movies.take(2).as_numpy_iterator():\n",
    "    pprint.pprint(i)"
   ]
  },
  {
   "cell_type": "markdown",
   "id": "844a903f",
   "metadata": {},
   "source": [
    "### user embeddings"
   ]
  },
  {
   "cell_type": "code",
   "execution_count": 18,
   "id": "fd81a1c9",
   "metadata": {},
   "outputs": [],
   "source": [
    "user_id_lookup = tf.keras.layers.experimental.preprocessing.StringLookup()\n",
    "user_id_lookup.adapt(ratings.map(lambda x: x[\"user_id\"]))"
   ]
  },
  {
   "cell_type": "code",
   "execution_count": 23,
   "id": "dc0e1b32",
   "metadata": {},
   "outputs": [
    {
     "name": "stdout",
     "output_type": "stream",
     "text": [
      "Buckets: [1.00000000e+09 1.00061491e+09 1.00122983e+09]\n"
     ]
    }
   ],
   "source": [
    "max_timestamp = ratings.map(lambda x: x[\"timestamp\"]).reduce(\n",
    "    tf.cast(0, tf.int32), tf.maximum).numpy().max()\n",
    "min_timestamp = ratings.map(lambda x: x[\"timestamp\"]).reduce(\n",
    "    np.int32(1e9), tf.minimum).numpy().min()\n",
    "timestamp_buckets = np.linspace(\n",
    "    min_timestamp, max_timestamp, num=1000)\n",
    "print(f\"Buckets: {timestamp_buckets[:3]}\")"
   ]
  },
  {
   "cell_type": "markdown",
   "id": "8c2abc4b",
   "metadata": {},
   "source": [
    "### item embeddings"
   ]
  },
  {
   "cell_type": "code",
   "execution_count": 48,
   "id": "c63d7713",
   "metadata": {},
   "outputs": [
    {
     "name": "stdout",
     "output_type": "stream",
     "text": [
      "Vocabulary: ['', '[UNK]', '713045']\n"
     ]
    }
   ],
   "source": [
    "movie_id_lookup = tf.keras.layers.experimental.preprocessing.StringLookup()\n",
    "movie_id_lookup.adapt(movies.map(lambda x: x[\"item_id\"]))\n",
    "print(f\"Vocabulary: {movie_title_lookup.get_vocabulary()[:3]}\")"
   ]
  },
  {
   "cell_type": "code",
   "execution_count": 49,
   "id": "7f30b52b",
   "metadata": {},
   "outputs": [
    {
     "name": "stdout",
     "output_type": "stream",
     "text": [
      "Vocabulary: ['', '[UNK]', '713045']\n"
     ]
    }
   ],
   "source": [
    "movie_title_lookup = tf.keras.layers.experimental.preprocessing.StringLookup()\n",
    "movie_title_lookup.adapt(movies.map(lambda x: x[\"item_title\"]))\n",
    "print(f\"Vocabulary: {movie_title_lookup.get_vocabulary()[:3]}\")"
   ]
  },
  {
   "cell_type": "code",
   "execution_count": 50,
   "id": "f76501dc",
   "metadata": {},
   "outputs": [],
   "source": [
    "description_text = tf.keras.layers.experimental.preprocessing.TextVectorization()\n",
    "description_text.adapt(movies.map(lambda x: x[\"description\"]))"
   ]
  },
  {
   "cell_type": "code",
   "execution_count": 51,
   "id": "aa7d588f",
   "metadata": {},
   "outputs": [],
   "source": [
    "price_normalization = tf.keras.layers.experimental.preprocessing.Normalization()\n",
    "price_normalization.adapt(movies.map(lambda x: x[\"price\"]).batch(1024))"
   ]
  },
  {
   "cell_type": "markdown",
   "id": "936a9faa",
   "metadata": {},
   "source": [
    "### user model"
   ]
  },
  {
   "cell_type": "code",
   "execution_count": 29,
   "id": "3733c1bc",
   "metadata": {},
   "outputs": [],
   "source": [
    "class UserModel(tf.keras.Model):\n",
    "\n",
    "  def __init__(self):\n",
    "    super().__init__()\n",
    "\n",
    "    self.user_embedding = tf.keras.Sequential([\n",
    "        user_id_lookup,\n",
    "        tf.keras.layers.Embedding(user_id_lookup.vocab_size(), 32),\n",
    "    ])\n",
    "    self.timestamp_embedding = tf.keras.Sequential([\n",
    "      tf.keras.layers.experimental.preprocessing.Discretization(timestamp_buckets.tolist()),\n",
    "      tf.keras.layers.Embedding(len(timestamp_buckets) + 2, 32)\n",
    "    ])\n",
    "    self.normalized_timestamp = tf.keras.layers.experimental.preprocessing.Normalization()\n",
    "\n",
    "  def call(self, inputs):\n",
    "\n",
    "    # Take the input dictionary, pass it through each input layer,\n",
    "    # and concatenate the result.\n",
    "    return tf.concat([\n",
    "        self.user_embedding(inputs[\"user_id\"]),\n",
    "        self.timestamp_embedding(inputs[\"timestamp\"]),\n",
    "        self.normalized_timestamp(inputs[\"timestamp\"])\n",
    "    ], axis=1)"
   ]
  },
  {
   "cell_type": "code",
   "execution_count": 44,
   "id": "0dbc1561",
   "metadata": {},
   "outputs": [
    {
     "name": "stdout",
     "output_type": "stream",
     "text": [
      "Computed representations: [-0.02055042 -0.03011694 -0.00614251]\n"
     ]
    }
   ],
   "source": [
    "user_model = UserModel()\n",
    "\n",
    "user_model.normalized_timestamp.adapt(\n",
    "    ratings.map(lambda x: x[\"timestamp\"]).batch(128))\n",
    "\n",
    "for row in ratings.batch(1).take(1):\n",
    "    print(f\"Computed representations: {user_model(row)[0, :3]}\")"
   ]
  },
  {
   "cell_type": "markdown",
   "id": "5755fe52",
   "metadata": {},
   "source": [
    "### Movie model"
   ]
  },
  {
   "cell_type": "code",
   "execution_count": 61,
   "id": "4172b00f",
   "metadata": {},
   "outputs": [],
   "source": [
    "class MovieModel(tf.keras.Model):\n",
    "\n",
    "  def __init__(self):\n",
    "    super().__init__()\n",
    "\n",
    "    max_tokens = 500_000\n",
    "\n",
    "    self.id_embedding = tf.keras.Sequential([\n",
    "      movie_id_lookup,\n",
    "      tf.keras.layers.Embedding(movie_id_lookup.vocab_size(), 32)\n",
    "    ])\n",
    "    self.title_embedding = tf.keras.Sequential([\n",
    "      movie_title_lookup,\n",
    "      tf.keras.layers.Embedding(movie_title_lookup.vocab_size(), 32)\n",
    "    ])\n",
    "    self.description_text_embedding = tf.keras.Sequential([\n",
    "      tf.keras.layers.experimental.preprocessing.TextVectorization(max_tokens=max_tokens),\n",
    "      tf.keras.layers.Embedding(max_tokens, 32, mask_zero=True),\n",
    "      # We average the embedding of individual words to get one embedding vector\n",
    "      # per title.\n",
    "      tf.keras.layers.GlobalAveragePooling1D(),\n",
    "    ])\n",
    "    self.normalized_price = tf.keras.layers.experimental.preprocessing.Normalization()\n",
    "\n",
    "  def call(self, inputs):\n",
    "    return tf.concat([\n",
    "        self.id_embedding(inputs[\"item_id\"]),\n",
    "        self.title_embedding(inputs[\"item_title\"]),\n",
    "        self.description_text_embedding(inputs[\"description\"]),\n",
    "        self.normalized_price(inputs[\"price\"])\n",
    "    ], axis=1)"
   ]
  },
  {
   "cell_type": "code",
   "execution_count": 62,
   "id": "c2cad512",
   "metadata": {},
   "outputs": [],
   "source": [
    "movie_model = MovieModel()\n",
    "\n",
    "movie_model.description_text_embedding.layers[0].adapt(movies.map(lambda x: x[\"description\"]))\n",
    "movie_model.normalized_price.adapt(movies.map(lambda x: x[\"price\"]).batch(128))"
   ]
  },
  {
   "cell_type": "code",
   "execution_count": 63,
   "id": "d2e0ff65",
   "metadata": {},
   "outputs": [
    {
     "name": "stdout",
     "output_type": "stream",
     "text": [
      "Computed representations: [ 0.01144432 -0.04837172 -0.02353926 -0.01859734]\n"
     ]
    }
   ],
   "source": [
    "for row in movies.batch(1).take(1):\n",
    "    print(f\"Computed representations: {movie_model(row)[0, :4]}\")"
   ]
  },
  {
   "cell_type": "code",
   "execution_count": 66,
   "id": "3ec56da9",
   "metadata": {},
   "outputs": [
    {
     "data": {
      "text/plain": [
       "TensorShape([1, 97])"
      ]
     },
     "execution_count": 66,
     "metadata": {},
     "output_type": "execute_result"
    }
   ],
   "source": [
    "movie_model(row).shape"
   ]
  },
  {
   "cell_type": "code",
   "execution_count": 60,
   "id": "892f4d84",
   "metadata": {},
   "outputs": [],
   "source": []
  },
  {
   "cell_type": "code",
   "execution_count": 61,
   "id": "3b94c85d",
   "metadata": {},
   "outputs": [],
   "source": []
  },
  {
   "cell_type": "code",
   "execution_count": 63,
   "id": "bf598272",
   "metadata": {},
   "outputs": [],
   "source": []
  }
 ],
 "metadata": {
  "environment": {
   "name": "tf2-gpu.2-4.m69",
   "type": "gcloud",
   "uri": "gcr.io/deeplearning-platform-release/tf2-gpu.2-4:m69"
  },
  "kernelspec": {
   "display_name": "Python [conda env:root] *",
   "language": "python",
   "name": "conda-root-py"
  },
  "language_info": {
   "codemirror_mode": {
    "name": "ipython",
    "version": 3
   },
   "file_extension": ".py",
   "mimetype": "text/x-python",
   "name": "python",
   "nbconvert_exporter": "python",
   "pygments_lexer": "ipython3",
   "version": "3.7.10"
  }
 },
 "nbformat": 4,
 "nbformat_minor": 5
}
